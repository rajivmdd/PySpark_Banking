{
  "nbformat": 4,
  "nbformat_minor": 0,
  "metadata": {
    "colab": {
      "provenance": [],
      "collapsed_sections": []
    },
    "kernelspec": {
      "name": "python3",
      "display_name": "Python 3"
    },
    "language_info": {
      "name": "python"
    }
  },
  "cells": [
    {
      "cell_type": "code",
      "execution_count": 1,
      "metadata": {
        "colab": {
          "base_uri": "https://localhost:8080/"
        },
        "id": "uOcF1Adb9S1k",
        "outputId": "c65060f8-8eda-48cf-ad23-8806d372803c"
      },
      "outputs": [
        {
          "output_type": "stream",
          "name": "stdout",
          "text": [
            "Looking in indexes: https://pypi.org/simple, https://us-python.pkg.dev/colab-wheels/public/simple/\n",
            "Collecting pyspark\n",
            "  Downloading pyspark-3.3.0.tar.gz (281.3 MB)\n",
            "\u001b[K     |████████████████████████████████| 281.3 MB 44 kB/s \n",
            "\u001b[?25hCollecting py4j==0.10.9.5\n",
            "  Downloading py4j-0.10.9.5-py2.py3-none-any.whl (199 kB)\n",
            "\u001b[K     |████████████████████████████████| 199 kB 49.7 MB/s \n",
            "\u001b[?25hBuilding wheels for collected packages: pyspark\n",
            "  Building wheel for pyspark (setup.py) ... \u001b[?25l\u001b[?25hdone\n",
            "  Created wheel for pyspark: filename=pyspark-3.3.0-py2.py3-none-any.whl size=281764026 sha256=271ac12c2a9985c0c969b140859c6ff059a92db210b63ae9a10e55d766aa088e\n",
            "  Stored in directory: /root/.cache/pip/wheels/7a/8e/1b/f73a52650d2e5f337708d9f6a1750d451a7349a867f928b885\n",
            "Successfully built pyspark\n",
            "Installing collected packages: py4j, pyspark\n",
            "Successfully installed py4j-0.10.9.5 pyspark-3.3.0\n"
          ]
        }
      ],
      "source": [
        "import time\n",
        "st = time.time()\n",
        "!pip install pyspark\n"
      ]
    },
    {
      "cell_type": "code",
      "source": [
        "import pyspark\n",
        "import time"
      ],
      "metadata": {
        "id": "ZbJzy6Z59gwm"
      },
      "execution_count": 2,
      "outputs": []
    },
    {
      "cell_type": "code",
      "source": [
        "from pyspark.sql import SparkSession"
      ],
      "metadata": {
        "id": "XtkSlI0d9jsk"
      },
      "execution_count": 3,
      "outputs": []
    },
    {
      "cell_type": "code",
      "source": [
        "spark = SparkSession.builder.appName('test').enableHiveSupport().getOrCreate()"
      ],
      "metadata": {
        "id": "xZqO8-Ce-M8e"
      },
      "execution_count": 4,
      "outputs": []
    },
    {
      "cell_type": "code",
      "source": [
        "spark"
      ],
      "metadata": {
        "colab": {
          "base_uri": "https://localhost:8080/",
          "height": 222
        },
        "id": "Zp9dPI2--Wpq",
        "outputId": "c13be1e1-605f-48e8-d2cd-437703855485"
      },
      "execution_count": 5,
      "outputs": [
        {
          "output_type": "execute_result",
          "data": {
            "text/plain": [
              "<pyspark.sql.session.SparkSession at 0x7fbfe02a21d0>"
            ],
            "text/html": [
              "\n",
              "            <div>\n",
              "                <p><b>SparkSession - hive</b></p>\n",
              "                \n",
              "        <div>\n",
              "            <p><b>SparkContext</b></p>\n",
              "\n",
              "            <p><a href=\"http://0867126b9680:4040\">Spark UI</a></p>\n",
              "\n",
              "            <dl>\n",
              "              <dt>Version</dt>\n",
              "                <dd><code>v3.3.0</code></dd>\n",
              "              <dt>Master</dt>\n",
              "                <dd><code>local[*]</code></dd>\n",
              "              <dt>AppName</dt>\n",
              "                <dd><code>test</code></dd>\n",
              "            </dl>\n",
              "        </div>\n",
              "        \n",
              "            </div>\n",
              "        "
            ]
          },
          "metadata": {},
          "execution_count": 5
        }
      ]
    },
    {
      "cell_type": "code",
      "source": [
        "column_credit_card = ['Transaction_id', 'Amount', 'Date', 'Customer_id']"
      ],
      "metadata": {
        "id": "E6HZ6N-NNx7q"
      },
      "execution_count": 6,
      "outputs": []
    },
    {
      "cell_type": "code",
      "source": [
        "data_credit_card = [('100023' , '12000' , '27-July-2022' , '15897') , ('100021' , '11998' , '27-July-2022' , '15867') , ('100019' , '11996' , '27-July-2022' , '12454') , ('100017' , '11994' , '27-July-2022' , '15897') , ('100015' , '11992' , '27-July-2022' , '15867') , ('100013' , '11990' , '27-July-2022' , '12454') , ('100011' , '11988' , '27-July-2022' , '15897') , ('100009' , '11986' , '27-July-2022' , '15867') , ('100007' , '11984' , '27-July-2022' , '12454') , ('100005' , '11982' , '27-July-2022' , '15897') , ('100003' , '11980' , '27-July-2022' , '15867') , ('100001' , '11978' , '27-July-2022' , '12454') , ('99999' , '11976' , '27-July-2022' , '14587') , ('99997' , '11974' , '27-July-2022' , '31262')]"
      ],
      "metadata": {
        "id": "5mYw3r6pNxwV"
      },
      "execution_count": 7,
      "outputs": []
    },
    {
      "cell_type": "code",
      "source": [
        "dataset_credit_card = spark.createDataFrame(data_credit_card, column_credit_card)"
      ],
      "metadata": {
        "id": "0MjWjs4xO-Yh"
      },
      "execution_count": 8,
      "outputs": []
    },
    {
      "cell_type": "code",
      "source": [
        "column_cheque = ['Transaction_id', 'Amount', 'Date', 'Customer_id']"
      ],
      "metadata": {
        "id": "jaCsmcFagha2"
      },
      "execution_count": 9,
      "outputs": []
    },
    {
      "cell_type": "code",
      "source": [
        "data_cheque = [('100056' , '12000' , '27-July-2022' , '15897') , ('100057' , '11998' , '27-July-2022' , '15867') , ('100058' , '11996' , '27-July-2022' , '12454') , ('100059' , '11994' , '27-July-2022' , '15897') , ('100060' , '11992' , '27-July-2022' , '15867') , ('100061' , '11990' , '27-July-2022' , '12454') , ('100062' , '11988' , '27-July-2022' , '15897') , ('100063' , '11986' , '27-July-2022' , '15867') , ('100064' , '11984' , '27-July-2022' , '12454') , ('100065' , '11982' , '27-July-2022' , '15897') , ('100066' , '11980' , '27-July-2022' , '15867') , ('100067' , '11978' , '27-July-2022' , '12454') , ('100068' , '11976' , '27-July-2022' , '14587') , ('100069' , '11974' , '27-July-2022' , '31262')]"
      ],
      "metadata": {
        "id": "V48QTOyrg0Q-"
      },
      "execution_count": 10,
      "outputs": []
    },
    {
      "cell_type": "code",
      "source": [
        "dataset_cheque = spark.createDataFrame(data_cheque, column_cheque)\n"
      ],
      "metadata": {
        "id": "GfRUnaalhFCQ",
        "colab": {
          "base_uri": "https://localhost:8080/"
        },
        "outputId": "38c84c15-37a8-4ec4-d950-7d0e5da7b52b"
      },
      "execution_count": 11,
      "outputs": [
        {
          "output_type": "execute_result",
          "data": {
            "text/plain": [
              "1662055802.346273"
            ]
          },
          "metadata": {},
          "execution_count": 11
        }
      ]
    },
    {
      "cell_type": "code",
      "source": [
        "dataset_cheque.show()"
      ],
      "metadata": {
        "colab": {
          "base_uri": "https://localhost:8080/"
        },
        "id": "J4iLOj3FhP66",
        "outputId": "734f6eb3-4392-4b48-b20e-d9c7b60d98a8"
      },
      "execution_count": 12,
      "outputs": [
        {
          "output_type": "stream",
          "name": "stdout",
          "text": [
            "+--------------+------+------------+-----------+\n",
            "|Transaction_id|Amount|        Date|Customer_id|\n",
            "+--------------+------+------------+-----------+\n",
            "|        100056| 12000|27-July-2022|      15897|\n",
            "|        100057| 11998|27-July-2022|      15867|\n",
            "|        100058| 11996|27-July-2022|      12454|\n",
            "|        100059| 11994|27-July-2022|      15897|\n",
            "|        100060| 11992|27-July-2022|      15867|\n",
            "|        100061| 11990|27-July-2022|      12454|\n",
            "|        100062| 11988|27-July-2022|      15897|\n",
            "|        100063| 11986|27-July-2022|      15867|\n",
            "|        100064| 11984|27-July-2022|      12454|\n",
            "|        100065| 11982|27-July-2022|      15897|\n",
            "|        100066| 11980|27-July-2022|      15867|\n",
            "|        100067| 11978|27-July-2022|      12454|\n",
            "|        100068| 11976|27-July-2022|      14587|\n",
            "|        100069| 11974|27-July-2022|      31262|\n",
            "+--------------+------+------------+-----------+\n",
            "\n"
          ]
        }
      ]
    },
    {
      "cell_type": "code",
      "source": [
        "dataset_credit_card.show()"
      ],
      "metadata": {
        "colab": {
          "base_uri": "https://localhost:8080/"
        },
        "id": "cQ8LyUpkhTWe",
        "outputId": "65239bfc-62ab-4c60-c9a8-4d545e0fc36e"
      },
      "execution_count": 13,
      "outputs": [
        {
          "output_type": "stream",
          "name": "stdout",
          "text": [
            "+--------------+------+------------+-----------+\n",
            "|Transaction_id|Amount|        Date|Customer_id|\n",
            "+--------------+------+------------+-----------+\n",
            "|        100023| 12000|27-July-2022|      15897|\n",
            "|        100021| 11998|27-July-2022|      15867|\n",
            "|        100019| 11996|27-July-2022|      12454|\n",
            "|        100017| 11994|27-July-2022|      15897|\n",
            "|        100015| 11992|27-July-2022|      15867|\n",
            "|        100013| 11990|27-July-2022|      12454|\n",
            "|        100011| 11988|27-July-2022|      15897|\n",
            "|        100009| 11986|27-July-2022|      15867|\n",
            "|        100007| 11984|27-July-2022|      12454|\n",
            "|        100005| 11982|27-July-2022|      15897|\n",
            "|        100003| 11980|27-July-2022|      15867|\n",
            "|        100001| 11978|27-July-2022|      12454|\n",
            "|         99999| 11976|27-July-2022|      14587|\n",
            "|         99997| 11974|27-July-2022|      31262|\n",
            "+--------------+------+------------+-----------+\n",
            "\n"
          ]
        }
      ]
    },
    {
      "cell_type": "code",
      "source": [
        "column_customer = ['Customer_id', 'First_Name', 'Last_Name', 'Country']"
      ],
      "metadata": {
        "id": "y3o_2HBzhXuE"
      },
      "execution_count": 14,
      "outputs": []
    },
    {
      "cell_type": "code",
      "source": [
        "data_customer = [('15897' , 'Robin' , 'Singh' , 'India') , ('15867' , 'Rajiv' , 'Singh' , 'USA') , ('12454' , 'Doyel' , 'Pradhan' , 'China'), ('14587' , 'Sam' , 'Thankur' , 'Taiwan') , ('31262' , 'John' , 'Sena' , 'Russia')]"
      ],
      "metadata": {
        "id": "4bX6mTQ3iq3e"
      },
      "execution_count": 15,
      "outputs": []
    },
    {
      "cell_type": "code",
      "source": [
        "dataset_customer = spark.createDataFrame(data_customer, column_customer)"
      ],
      "metadata": {
        "id": "_x8QYELRi0wB"
      },
      "execution_count": 16,
      "outputs": []
    },
    {
      "cell_type": "code",
      "source": [
        "dataset_customer.show()"
      ],
      "metadata": {
        "colab": {
          "base_uri": "https://localhost:8080/"
        },
        "id": "WlF-dWa-i9u3",
        "outputId": "75c2b269-114d-492e-9555-bd5bf02780bd"
      },
      "execution_count": 17,
      "outputs": [
        {
          "output_type": "stream",
          "name": "stdout",
          "text": [
            "+-----------+----------+---------+-------+\n",
            "|Customer_id|First_Name|Last_Name|Country|\n",
            "+-----------+----------+---------+-------+\n",
            "|      15897|     Robin|    Singh|  India|\n",
            "|      15867|     Rajiv|    Singh|    USA|\n",
            "|      12454|     Doyel|  Pradhan|  China|\n",
            "|      14587|       Sam|  Thankur| Taiwan|\n",
            "|      31262|      John|     Sena| Russia|\n",
            "+-----------+----------+---------+-------+\n",
            "\n"
          ]
        }
      ]
    },
    {
      "cell_type": "markdown",
      "source": [
        "Banking Transaction dataset\n",
        "\n",
        "Raw data name\n",
        "\n",
        "dataset_customer\n",
        "\n",
        "dataset_credit_card\n",
        "\n",
        "dataset_cheque\n"
      ],
      "metadata": {
        "id": "zEKoXQiujVE5"
      }
    },
    {
      "cell_type": "code",
      "source": [
        "dataset_customer.show()\n",
        "\n",
        "dataset_credit_card.show()\n",
        "\n",
        "dataset_cheque.show()"
      ],
      "metadata": {
        "colab": {
          "base_uri": "https://localhost:8080/"
        },
        "id": "jnp_9wxRjA6c",
        "outputId": "16be08c3-e714-4418-f93c-2dd0fbc46ce3"
      },
      "execution_count": 18,
      "outputs": [
        {
          "output_type": "stream",
          "name": "stdout",
          "text": [
            "+-----------+----------+---------+-------+\n",
            "|Customer_id|First_Name|Last_Name|Country|\n",
            "+-----------+----------+---------+-------+\n",
            "|      15897|     Robin|    Singh|  India|\n",
            "|      15867|     Rajiv|    Singh|    USA|\n",
            "|      12454|     Doyel|  Pradhan|  China|\n",
            "|      14587|       Sam|  Thankur| Taiwan|\n",
            "|      31262|      John|     Sena| Russia|\n",
            "+-----------+----------+---------+-------+\n",
            "\n",
            "+--------------+------+------------+-----------+\n",
            "|Transaction_id|Amount|        Date|Customer_id|\n",
            "+--------------+------+------------+-----------+\n",
            "|        100023| 12000|27-July-2022|      15897|\n",
            "|        100021| 11998|27-July-2022|      15867|\n",
            "|        100019| 11996|27-July-2022|      12454|\n",
            "|        100017| 11994|27-July-2022|      15897|\n",
            "|        100015| 11992|27-July-2022|      15867|\n",
            "|        100013| 11990|27-July-2022|      12454|\n",
            "|        100011| 11988|27-July-2022|      15897|\n",
            "|        100009| 11986|27-July-2022|      15867|\n",
            "|        100007| 11984|27-July-2022|      12454|\n",
            "|        100005| 11982|27-July-2022|      15897|\n",
            "|        100003| 11980|27-July-2022|      15867|\n",
            "|        100001| 11978|27-July-2022|      12454|\n",
            "|         99999| 11976|27-July-2022|      14587|\n",
            "|         99997| 11974|27-July-2022|      31262|\n",
            "+--------------+------+------------+-----------+\n",
            "\n",
            "+--------------+------+------------+-----------+\n",
            "|Transaction_id|Amount|        Date|Customer_id|\n",
            "+--------------+------+------------+-----------+\n",
            "|        100056| 12000|27-July-2022|      15897|\n",
            "|        100057| 11998|27-July-2022|      15867|\n",
            "|        100058| 11996|27-July-2022|      12454|\n",
            "|        100059| 11994|27-July-2022|      15897|\n",
            "|        100060| 11992|27-July-2022|      15867|\n",
            "|        100061| 11990|27-July-2022|      12454|\n",
            "|        100062| 11988|27-July-2022|      15897|\n",
            "|        100063| 11986|27-July-2022|      15867|\n",
            "|        100064| 11984|27-July-2022|      12454|\n",
            "|        100065| 11982|27-July-2022|      15897|\n",
            "|        100066| 11980|27-July-2022|      15867|\n",
            "|        100067| 11978|27-July-2022|      12454|\n",
            "|        100068| 11976|27-July-2022|      14587|\n",
            "|        100069| 11974|27-July-2022|      31262|\n",
            "+--------------+------+------------+-----------+\n",
            "\n"
          ]
        }
      ]
    },
    {
      "cell_type": "code",
      "source": [
        "from pyspark.sql.types import *"
      ],
      "metadata": {
        "id": "JPZfnNQgj1ze"
      },
      "execution_count": 19,
      "outputs": []
    },
    {
      "cell_type": "code",
      "source": [
        "dataset_credit_card.createOrReplaceTempView(\"dataset_credit_card\")"
      ],
      "metadata": {
        "id": "vL2KhtS-lesy"
      },
      "execution_count": 20,
      "outputs": []
    },
    {
      "cell_type": "code",
      "source": [
        "spark.sql(\"select * from dataset_credit_card where Amount >= 11990\").show()"
      ],
      "metadata": {
        "colab": {
          "base_uri": "https://localhost:8080/"
        },
        "id": "iwgfftGosjA-",
        "outputId": "8facaf74-2131-4b66-a13a-34ffc722e171"
      },
      "execution_count": 21,
      "outputs": [
        {
          "output_type": "stream",
          "name": "stdout",
          "text": [
            "+--------------+------+------------+-----------+\n",
            "|Transaction_id|Amount|        Date|Customer_id|\n",
            "+--------------+------+------------+-----------+\n",
            "|        100023| 12000|27-July-2022|      15897|\n",
            "|        100021| 11998|27-July-2022|      15867|\n",
            "|        100019| 11996|27-July-2022|      12454|\n",
            "|        100017| 11994|27-July-2022|      15897|\n",
            "|        100015| 11992|27-July-2022|      15867|\n",
            "|        100013| 11990|27-July-2022|      12454|\n",
            "+--------------+------+------------+-----------+\n",
            "\n"
          ]
        }
      ]
    },
    {
      "cell_type": "code",
      "source": [
        "from pyspark.sql.functions import lit\n",
        "\n",
        "dataset_credit_card = dataset_credit_card.withColumn('Transaction_type', lit('Credit Card'))"
      ],
      "metadata": {
        "id": "l9RkgM-euk2y"
      },
      "execution_count": 22,
      "outputs": []
    },
    {
      "cell_type": "code",
      "source": [
        "dataset_credit_card.show()"
      ],
      "metadata": {
        "colab": {
          "base_uri": "https://localhost:8080/"
        },
        "id": "XBciaYV0ybNt",
        "outputId": "adea881b-7eeb-4792-fc74-8a0f76262a6f"
      },
      "execution_count": 23,
      "outputs": [
        {
          "output_type": "stream",
          "name": "stdout",
          "text": [
            "+--------------+------+------------+-----------+----------------+\n",
            "|Transaction_id|Amount|        Date|Customer_id|Transaction_type|\n",
            "+--------------+------+------------+-----------+----------------+\n",
            "|        100023| 12000|27-July-2022|      15897|     Credit Card|\n",
            "|        100021| 11998|27-July-2022|      15867|     Credit Card|\n",
            "|        100019| 11996|27-July-2022|      12454|     Credit Card|\n",
            "|        100017| 11994|27-July-2022|      15897|     Credit Card|\n",
            "|        100015| 11992|27-July-2022|      15867|     Credit Card|\n",
            "|        100013| 11990|27-July-2022|      12454|     Credit Card|\n",
            "|        100011| 11988|27-July-2022|      15897|     Credit Card|\n",
            "|        100009| 11986|27-July-2022|      15867|     Credit Card|\n",
            "|        100007| 11984|27-July-2022|      12454|     Credit Card|\n",
            "|        100005| 11982|27-July-2022|      15897|     Credit Card|\n",
            "|        100003| 11980|27-July-2022|      15867|     Credit Card|\n",
            "|        100001| 11978|27-July-2022|      12454|     Credit Card|\n",
            "|         99999| 11976|27-July-2022|      14587|     Credit Card|\n",
            "|         99997| 11974|27-July-2022|      31262|     Credit Card|\n",
            "+--------------+------+------------+-----------+----------------+\n",
            "\n"
          ]
        }
      ]
    },
    {
      "cell_type": "code",
      "source": [
        "dataset_cheque = dataset_cheque.withColumn('Transaction_type', lit('Cheque'))"
      ],
      "metadata": {
        "id": "QYyJOlCq_wPN"
      },
      "execution_count": 24,
      "outputs": []
    },
    {
      "cell_type": "code",
      "source": [
        "dataset_cheque.show()"
      ],
      "metadata": {
        "colab": {
          "base_uri": "https://localhost:8080/"
        },
        "id": "2-u_zHos_52M",
        "outputId": "f622013b-9899-4cab-edf9-d3b1c254b28d"
      },
      "execution_count": 25,
      "outputs": [
        {
          "output_type": "stream",
          "name": "stdout",
          "text": [
            "+--------------+------+------------+-----------+----------------+\n",
            "|Transaction_id|Amount|        Date|Customer_id|Transaction_type|\n",
            "+--------------+------+------------+-----------+----------------+\n",
            "|        100056| 12000|27-July-2022|      15897|          Cheque|\n",
            "|        100057| 11998|27-July-2022|      15867|          Cheque|\n",
            "|        100058| 11996|27-July-2022|      12454|          Cheque|\n",
            "|        100059| 11994|27-July-2022|      15897|          Cheque|\n",
            "|        100060| 11992|27-July-2022|      15867|          Cheque|\n",
            "|        100061| 11990|27-July-2022|      12454|          Cheque|\n",
            "|        100062| 11988|27-July-2022|      15897|          Cheque|\n",
            "|        100063| 11986|27-July-2022|      15867|          Cheque|\n",
            "|        100064| 11984|27-July-2022|      12454|          Cheque|\n",
            "|        100065| 11982|27-July-2022|      15897|          Cheque|\n",
            "|        100066| 11980|27-July-2022|      15867|          Cheque|\n",
            "|        100067| 11978|27-July-2022|      12454|          Cheque|\n",
            "|        100068| 11976|27-July-2022|      14587|          Cheque|\n",
            "|        100069| 11974|27-July-2022|      31262|          Cheque|\n",
            "+--------------+------+------------+-----------+----------------+\n",
            "\n"
          ]
        }
      ]
    },
    {
      "cell_type": "code",
      "source": [
        "dataset_tran = dataset_cheque.union(dataset_credit_card)"
      ],
      "metadata": {
        "id": "ZWks6OAc_9wv"
      },
      "execution_count": 26,
      "outputs": []
    },
    {
      "cell_type": "code",
      "source": [
        "dataset_tran.show(50)"
      ],
      "metadata": {
        "colab": {
          "base_uri": "https://localhost:8080/"
        },
        "id": "u_24h7MwBDtl",
        "outputId": "18a0172f-1528-4437-9f67-6fc2cf5f9872"
      },
      "execution_count": 27,
      "outputs": [
        {
          "output_type": "stream",
          "name": "stdout",
          "text": [
            "+--------------+------+------------+-----------+----------------+\n",
            "|Transaction_id|Amount|        Date|Customer_id|Transaction_type|\n",
            "+--------------+------+------------+-----------+----------------+\n",
            "|        100056| 12000|27-July-2022|      15897|          Cheque|\n",
            "|        100057| 11998|27-July-2022|      15867|          Cheque|\n",
            "|        100058| 11996|27-July-2022|      12454|          Cheque|\n",
            "|        100059| 11994|27-July-2022|      15897|          Cheque|\n",
            "|        100060| 11992|27-July-2022|      15867|          Cheque|\n",
            "|        100061| 11990|27-July-2022|      12454|          Cheque|\n",
            "|        100062| 11988|27-July-2022|      15897|          Cheque|\n",
            "|        100063| 11986|27-July-2022|      15867|          Cheque|\n",
            "|        100064| 11984|27-July-2022|      12454|          Cheque|\n",
            "|        100065| 11982|27-July-2022|      15897|          Cheque|\n",
            "|        100066| 11980|27-July-2022|      15867|          Cheque|\n",
            "|        100067| 11978|27-July-2022|      12454|          Cheque|\n",
            "|        100068| 11976|27-July-2022|      14587|          Cheque|\n",
            "|        100069| 11974|27-July-2022|      31262|          Cheque|\n",
            "|        100023| 12000|27-July-2022|      15897|     Credit Card|\n",
            "|        100021| 11998|27-July-2022|      15867|     Credit Card|\n",
            "|        100019| 11996|27-July-2022|      12454|     Credit Card|\n",
            "|        100017| 11994|27-July-2022|      15897|     Credit Card|\n",
            "|        100015| 11992|27-July-2022|      15867|     Credit Card|\n",
            "|        100013| 11990|27-July-2022|      12454|     Credit Card|\n",
            "|        100011| 11988|27-July-2022|      15897|     Credit Card|\n",
            "|        100009| 11986|27-July-2022|      15867|     Credit Card|\n",
            "|        100007| 11984|27-July-2022|      12454|     Credit Card|\n",
            "|        100005| 11982|27-July-2022|      15897|     Credit Card|\n",
            "|        100003| 11980|27-July-2022|      15867|     Credit Card|\n",
            "|        100001| 11978|27-July-2022|      12454|     Credit Card|\n",
            "|         99999| 11976|27-July-2022|      14587|     Credit Card|\n",
            "|         99997| 11974|27-July-2022|      31262|     Credit Card|\n",
            "+--------------+------+------------+-----------+----------------+\n",
            "\n"
          ]
        }
      ]
    },
    {
      "cell_type": "code",
      "source": [
        "all_data = dataset_tran.join(dataset_customer, dataset_tran['Customer_id'] == dataset_customer['Customer_id'], 'inner' ).drop(dataset_customer['Customer_id'])"
      ],
      "metadata": {
        "id": "LrerzJsxBP0A"
      },
      "execution_count": 28,
      "outputs": []
    },
    {
      "cell_type": "code",
      "source": [
        "all_data.show(100)"
      ],
      "metadata": {
        "colab": {
          "base_uri": "https://localhost:8080/"
        },
        "id": "mRS_rsqKCM8w",
        "outputId": "fd040da1-79f1-42d8-ef10-ed735edd4fcf"
      },
      "execution_count": 29,
      "outputs": [
        {
          "output_type": "stream",
          "name": "stdout",
          "text": [
            "+--------------+------+------------+-----------+----------------+----------+---------+-------+\n",
            "|Transaction_id|Amount|        Date|Customer_id|Transaction_type|First_Name|Last_Name|Country|\n",
            "+--------------+------+------------+-----------+----------------+----------+---------+-------+\n",
            "|        100058| 11996|27-July-2022|      12454|          Cheque|     Doyel|  Pradhan|  China|\n",
            "|        100061| 11990|27-July-2022|      12454|          Cheque|     Doyel|  Pradhan|  China|\n",
            "|        100064| 11984|27-July-2022|      12454|          Cheque|     Doyel|  Pradhan|  China|\n",
            "|        100067| 11978|27-July-2022|      12454|          Cheque|     Doyel|  Pradhan|  China|\n",
            "|        100019| 11996|27-July-2022|      12454|     Credit Card|     Doyel|  Pradhan|  China|\n",
            "|        100013| 11990|27-July-2022|      12454|     Credit Card|     Doyel|  Pradhan|  China|\n",
            "|        100007| 11984|27-July-2022|      12454|     Credit Card|     Doyel|  Pradhan|  China|\n",
            "|        100001| 11978|27-July-2022|      12454|     Credit Card|     Doyel|  Pradhan|  China|\n",
            "|        100068| 11976|27-July-2022|      14587|          Cheque|       Sam|  Thankur| Taiwan|\n",
            "|         99999| 11976|27-July-2022|      14587|     Credit Card|       Sam|  Thankur| Taiwan|\n",
            "|        100057| 11998|27-July-2022|      15867|          Cheque|     Rajiv|    Singh|    USA|\n",
            "|        100060| 11992|27-July-2022|      15867|          Cheque|     Rajiv|    Singh|    USA|\n",
            "|        100063| 11986|27-July-2022|      15867|          Cheque|     Rajiv|    Singh|    USA|\n",
            "|        100066| 11980|27-July-2022|      15867|          Cheque|     Rajiv|    Singh|    USA|\n",
            "|        100021| 11998|27-July-2022|      15867|     Credit Card|     Rajiv|    Singh|    USA|\n",
            "|        100015| 11992|27-July-2022|      15867|     Credit Card|     Rajiv|    Singh|    USA|\n",
            "|        100009| 11986|27-July-2022|      15867|     Credit Card|     Rajiv|    Singh|    USA|\n",
            "|        100003| 11980|27-July-2022|      15867|     Credit Card|     Rajiv|    Singh|    USA|\n",
            "|        100056| 12000|27-July-2022|      15897|          Cheque|     Robin|    Singh|  India|\n",
            "|        100059| 11994|27-July-2022|      15897|          Cheque|     Robin|    Singh|  India|\n",
            "|        100062| 11988|27-July-2022|      15897|          Cheque|     Robin|    Singh|  India|\n",
            "|        100065| 11982|27-July-2022|      15897|          Cheque|     Robin|    Singh|  India|\n",
            "|        100023| 12000|27-July-2022|      15897|     Credit Card|     Robin|    Singh|  India|\n",
            "|        100017| 11994|27-July-2022|      15897|     Credit Card|     Robin|    Singh|  India|\n",
            "|        100011| 11988|27-July-2022|      15897|     Credit Card|     Robin|    Singh|  India|\n",
            "|        100005| 11982|27-July-2022|      15897|     Credit Card|     Robin|    Singh|  India|\n",
            "|        100069| 11974|27-July-2022|      31262|          Cheque|      John|     Sena| Russia|\n",
            "|         99997| 11974|27-July-2022|      31262|     Credit Card|      John|     Sena| Russia|\n",
            "+--------------+------+------------+-----------+----------------+----------+---------+-------+\n",
            "\n"
          ]
        }
      ]
    },
    {
      "cell_type": "code",
      "source": [
        "all_data.printSchema()"
      ],
      "metadata": {
        "id": "UigES9iNCdOo",
        "colab": {
          "base_uri": "https://localhost:8080/"
        },
        "outputId": "c32616bd-efd6-42e5-de2a-c7a54eab7236"
      },
      "execution_count": 30,
      "outputs": [
        {
          "output_type": "stream",
          "name": "stdout",
          "text": [
            "root\n",
            " |-- Transaction_id: string (nullable = true)\n",
            " |-- Amount: string (nullable = true)\n",
            " |-- Date: string (nullable = true)\n",
            " |-- Customer_id: string (nullable = true)\n",
            " |-- Transaction_type: string (nullable = false)\n",
            " |-- First_Name: string (nullable = true)\n",
            " |-- Last_Name: string (nullable = true)\n",
            " |-- Country: string (nullable = true)\n",
            "\n"
          ]
        }
      ]
    },
    {
      "cell_type": "code",
      "source": [
        "from pyspark.sql.types import StringType,BooleanType,DateType\n",
        "from pyspark.sql import functions as F\n",
        "from pyspark.sql.functions import dayofmonth\n",
        "from pyspark.sql.functions import year\n",
        "from pyspark.sql.functions import month\n",
        "from pyspark.sql.functions import to_timestamp,date_format\n",
        "from pyspark.sql.functions import current_timestamp\n",
        "from pyspark.sql.functions import col, substring\n",
        "from pyspark.sql.functions import *\n",
        "\n",
        "#Changing data types"
      ],
      "metadata": {
        "id": "BBfPk0rLi9vY"
      },
      "execution_count": 31,
      "outputs": []
    },
    {
      "cell_type": "code",
      "source": [
        "#def function to convert it into date type\n"
      ],
      "metadata": {
        "id": "4VIW-2_ymbS-"
      },
      "execution_count": 32,
      "outputs": []
    },
    {
      "cell_type": "code",
      "source": [
        "#all_data.select(F.col('Transaction_id').astype('String'),F.col('Amount').astype('Double'), substring('Date', 1,2), to_date(F.col('Date'),\"dd-mm-yyyy\")   ).show()\n",
        "\n",
        "#all_data.select(F.col('Transaction_id').astype('String'), F.col('Amount').astype('Double'), F.to_date(col('Date'), 'd-M-y').alias('Date')).show()\n",
        "\n",
        "\n",
        "all_data_updated = all_data.select(\n",
        "                F.col('Transaction_id').astype('Double'),\n",
        "                F.col('Transaction_type').astype('String'),\n",
        "                F.col('Amount').astype('Double'), \n",
        "                F.col('Customer_id').astype('String'),  \n",
        "                concat(all_data['First_Name'],lit(\" \"), all_data['Last_Name']).alias('Name'), \n",
        "                F.col('Country').astype('String')\n",
        "                                  )"
      ],
      "metadata": {
        "id": "yS8Uyv8qjic8"
      },
      "execution_count": 33,
      "outputs": []
    },
    {
      "cell_type": "code",
      "source": [
        "all_data_updated.printSchema()"
      ],
      "metadata": {
        "colab": {
          "base_uri": "https://localhost:8080/"
        },
        "id": "OxQrydvgkEja",
        "outputId": "02066bf5-e53d-47d9-d217-6b1ff7c4c256"
      },
      "execution_count": 34,
      "outputs": [
        {
          "output_type": "stream",
          "name": "stdout",
          "text": [
            "root\n",
            " |-- Transaction_id: double (nullable = true)\n",
            " |-- Transaction_type: string (nullable = false)\n",
            " |-- Amount: double (nullable = true)\n",
            " |-- Customer_id: string (nullable = true)\n",
            " |-- Name: string (nullable = true)\n",
            " |-- Country: string (nullable = true)\n",
            "\n"
          ]
        }
      ]
    },
    {
      "cell_type": "code",
      "source": [
        "all_data_updated.show(100)"
      ],
      "metadata": {
        "colab": {
          "base_uri": "https://localhost:8080/"
        },
        "id": "r84BXgHg9WPW",
        "outputId": "133705e5-cebc-46af-d736-6406acb27248"
      },
      "execution_count": 35,
      "outputs": [
        {
          "output_type": "stream",
          "name": "stdout",
          "text": [
            "+--------------+----------------+-------+-----------+-------------+-------+\n",
            "|Transaction_id|Transaction_type| Amount|Customer_id|         Name|Country|\n",
            "+--------------+----------------+-------+-----------+-------------+-------+\n",
            "|      100058.0|          Cheque|11996.0|      12454|Doyel Pradhan|  China|\n",
            "|      100061.0|          Cheque|11990.0|      12454|Doyel Pradhan|  China|\n",
            "|      100064.0|          Cheque|11984.0|      12454|Doyel Pradhan|  China|\n",
            "|      100067.0|          Cheque|11978.0|      12454|Doyel Pradhan|  China|\n",
            "|      100019.0|     Credit Card|11996.0|      12454|Doyel Pradhan|  China|\n",
            "|      100013.0|     Credit Card|11990.0|      12454|Doyel Pradhan|  China|\n",
            "|      100007.0|     Credit Card|11984.0|      12454|Doyel Pradhan|  China|\n",
            "|      100001.0|     Credit Card|11978.0|      12454|Doyel Pradhan|  China|\n",
            "|      100068.0|          Cheque|11976.0|      14587|  Sam Thankur| Taiwan|\n",
            "|       99999.0|     Credit Card|11976.0|      14587|  Sam Thankur| Taiwan|\n",
            "|      100057.0|          Cheque|11998.0|      15867|  Rajiv Singh|    USA|\n",
            "|      100060.0|          Cheque|11992.0|      15867|  Rajiv Singh|    USA|\n",
            "|      100063.0|          Cheque|11986.0|      15867|  Rajiv Singh|    USA|\n",
            "|      100066.0|          Cheque|11980.0|      15867|  Rajiv Singh|    USA|\n",
            "|      100021.0|     Credit Card|11998.0|      15867|  Rajiv Singh|    USA|\n",
            "|      100015.0|     Credit Card|11992.0|      15867|  Rajiv Singh|    USA|\n",
            "|      100009.0|     Credit Card|11986.0|      15867|  Rajiv Singh|    USA|\n",
            "|      100003.0|     Credit Card|11980.0|      15867|  Rajiv Singh|    USA|\n",
            "|      100056.0|          Cheque|12000.0|      15897|  Robin Singh|  India|\n",
            "|      100059.0|          Cheque|11994.0|      15897|  Robin Singh|  India|\n",
            "|      100062.0|          Cheque|11988.0|      15897|  Robin Singh|  India|\n",
            "|      100065.0|          Cheque|11982.0|      15897|  Robin Singh|  India|\n",
            "|      100023.0|     Credit Card|12000.0|      15897|  Robin Singh|  India|\n",
            "|      100017.0|     Credit Card|11994.0|      15897|  Robin Singh|  India|\n",
            "|      100011.0|     Credit Card|11988.0|      15897|  Robin Singh|  India|\n",
            "|      100005.0|     Credit Card|11982.0|      15897|  Robin Singh|  India|\n",
            "|      100069.0|          Cheque|11974.0|      31262|    John Sena| Russia|\n",
            "|       99997.0|     Credit Card|11974.0|      31262|    John Sena| Russia|\n",
            "+--------------+----------------+-------+-----------+-------------+-------+\n",
            "\n"
          ]
        }
      ]
    },
    {
      "cell_type": "code",
      "source": [
        "all_data_updated.groupBy('Name').sum().show()"
      ],
      "metadata": {
        "colab": {
          "base_uri": "https://localhost:8080/"
        },
        "id": "wW2ZLYkc9whD",
        "outputId": "07857c5d-c9db-4a86-80ad-bad2640521bb"
      },
      "execution_count": 36,
      "outputs": [
        {
          "output_type": "stream",
          "name": "stdout",
          "text": [
            "+-------------+-------------------+-----------+\n",
            "|         Name|sum(Transaction_id)|sum(Amount)|\n",
            "+-------------+-------------------+-----------+\n",
            "|Doyel Pradhan|           800290.0|    95896.0|\n",
            "|  Sam Thankur|           200067.0|    23952.0|\n",
            "|  Rajiv Singh|           800294.0|    95912.0|\n",
            "|    John Sena|           200066.0|    23948.0|\n",
            "|  Robin Singh|           800298.0|    95928.0|\n",
            "+-------------+-------------------+-----------+\n",
            "\n"
          ]
        }
      ]
    },
    {
      "cell_type": "code",
      "source": [
        "all_data_updated.groupBy('Country').sum().show()"
      ],
      "metadata": {
        "colab": {
          "base_uri": "https://localhost:8080/"
        },
        "id": "1-7AZABY-iPw",
        "outputId": "f068f53d-b260-4cfe-8a57-eed4acbd9e89"
      },
      "execution_count": 37,
      "outputs": [
        {
          "output_type": "stream",
          "name": "stdout",
          "text": [
            "+-------+-------------------+-----------+\n",
            "|Country|sum(Transaction_id)|sum(Amount)|\n",
            "+-------+-------------------+-----------+\n",
            "| Russia|           200066.0|    23948.0|\n",
            "| Taiwan|           200067.0|    23952.0|\n",
            "|  China|           800290.0|    95896.0|\n",
            "|  India|           800298.0|    95928.0|\n",
            "|    USA|           800294.0|    95912.0|\n",
            "+-------+-------------------+-----------+\n",
            "\n"
          ]
        }
      ]
    },
    {
      "cell_type": "code",
      "source": [
        "all_data_updated.filter('Amount >1000').show()"
      ],
      "metadata": {
        "colab": {
          "base_uri": "https://localhost:8080/"
        },
        "id": "h0UFmw3J_ZYB",
        "outputId": "02eddb81-ce9c-492d-ed40-cb8a095e8d24"
      },
      "execution_count": 38,
      "outputs": [
        {
          "output_type": "stream",
          "name": "stdout",
          "text": [
            "+--------------+----------------+-------+-----------+-------------+-------+\n",
            "|Transaction_id|Transaction_type| Amount|Customer_id|         Name|Country|\n",
            "+--------------+----------------+-------+-----------+-------------+-------+\n",
            "|      100058.0|          Cheque|11996.0|      12454|Doyel Pradhan|  China|\n",
            "|      100061.0|          Cheque|11990.0|      12454|Doyel Pradhan|  China|\n",
            "|      100064.0|          Cheque|11984.0|      12454|Doyel Pradhan|  China|\n",
            "|      100067.0|          Cheque|11978.0|      12454|Doyel Pradhan|  China|\n",
            "|      100019.0|     Credit Card|11996.0|      12454|Doyel Pradhan|  China|\n",
            "|      100013.0|     Credit Card|11990.0|      12454|Doyel Pradhan|  China|\n",
            "|      100007.0|     Credit Card|11984.0|      12454|Doyel Pradhan|  China|\n",
            "|      100001.0|     Credit Card|11978.0|      12454|Doyel Pradhan|  China|\n",
            "|      100068.0|          Cheque|11976.0|      14587|  Sam Thankur| Taiwan|\n",
            "|       99999.0|     Credit Card|11976.0|      14587|  Sam Thankur| Taiwan|\n",
            "|      100057.0|          Cheque|11998.0|      15867|  Rajiv Singh|    USA|\n",
            "|      100060.0|          Cheque|11992.0|      15867|  Rajiv Singh|    USA|\n",
            "|      100063.0|          Cheque|11986.0|      15867|  Rajiv Singh|    USA|\n",
            "|      100066.0|          Cheque|11980.0|      15867|  Rajiv Singh|    USA|\n",
            "|      100021.0|     Credit Card|11998.0|      15867|  Rajiv Singh|    USA|\n",
            "|      100015.0|     Credit Card|11992.0|      15867|  Rajiv Singh|    USA|\n",
            "|      100009.0|     Credit Card|11986.0|      15867|  Rajiv Singh|    USA|\n",
            "|      100003.0|     Credit Card|11980.0|      15867|  Rajiv Singh|    USA|\n",
            "|      100056.0|          Cheque|12000.0|      15897|  Robin Singh|  India|\n",
            "|      100059.0|          Cheque|11994.0|      15897|  Robin Singh|  India|\n",
            "+--------------+----------------+-------+-----------+-------------+-------+\n",
            "only showing top 20 rows\n",
            "\n"
          ]
        }
      ]
    },
    {
      "cell_type": "code",
      "source": [
        "all_data_updated =  all_data_updated.withColumn('Taxable_Income', (all_data_updated['Amount'] - 5000))"
      ],
      "metadata": {
        "id": "Qufi5Plp_xEa"
      },
      "execution_count": 39,
      "outputs": []
    },
    {
      "cell_type": "code",
      "source": [
        "all_data_updated.show()"
      ],
      "metadata": {
        "colab": {
          "base_uri": "https://localhost:8080/"
        },
        "id": "vSiQlPzkJJWd",
        "outputId": "9a68d2f1-1962-4f1f-b6da-a4fe3b0a6155"
      },
      "execution_count": 40,
      "outputs": [
        {
          "output_type": "stream",
          "name": "stdout",
          "text": [
            "+--------------+----------------+-------+-----------+-------------+-------+--------------+\n",
            "|Transaction_id|Transaction_type| Amount|Customer_id|         Name|Country|Taxable_Income|\n",
            "+--------------+----------------+-------+-----------+-------------+-------+--------------+\n",
            "|      100058.0|          Cheque|11996.0|      12454|Doyel Pradhan|  China|        6996.0|\n",
            "|      100061.0|          Cheque|11990.0|      12454|Doyel Pradhan|  China|        6990.0|\n",
            "|      100064.0|          Cheque|11984.0|      12454|Doyel Pradhan|  China|        6984.0|\n",
            "|      100067.0|          Cheque|11978.0|      12454|Doyel Pradhan|  China|        6978.0|\n",
            "|      100019.0|     Credit Card|11996.0|      12454|Doyel Pradhan|  China|        6996.0|\n",
            "|      100013.0|     Credit Card|11990.0|      12454|Doyel Pradhan|  China|        6990.0|\n",
            "|      100007.0|     Credit Card|11984.0|      12454|Doyel Pradhan|  China|        6984.0|\n",
            "|      100001.0|     Credit Card|11978.0|      12454|Doyel Pradhan|  China|        6978.0|\n",
            "|      100068.0|          Cheque|11976.0|      14587|  Sam Thankur| Taiwan|        6976.0|\n",
            "|       99999.0|     Credit Card|11976.0|      14587|  Sam Thankur| Taiwan|        6976.0|\n",
            "|      100057.0|          Cheque|11998.0|      15867|  Rajiv Singh|    USA|        6998.0|\n",
            "|      100060.0|          Cheque|11992.0|      15867|  Rajiv Singh|    USA|        6992.0|\n",
            "|      100063.0|          Cheque|11986.0|      15867|  Rajiv Singh|    USA|        6986.0|\n",
            "|      100066.0|          Cheque|11980.0|      15867|  Rajiv Singh|    USA|        6980.0|\n",
            "|      100021.0|     Credit Card|11998.0|      15867|  Rajiv Singh|    USA|        6998.0|\n",
            "|      100015.0|     Credit Card|11992.0|      15867|  Rajiv Singh|    USA|        6992.0|\n",
            "|      100009.0|     Credit Card|11986.0|      15867|  Rajiv Singh|    USA|        6986.0|\n",
            "|      100003.0|     Credit Card|11980.0|      15867|  Rajiv Singh|    USA|        6980.0|\n",
            "|      100056.0|          Cheque|12000.0|      15897|  Robin Singh|  India|        7000.0|\n",
            "|      100059.0|          Cheque|11994.0|      15897|  Robin Singh|  India|        6994.0|\n",
            "+--------------+----------------+-------+-----------+-------------+-------+--------------+\n",
            "only showing top 20 rows\n",
            "\n"
          ]
        }
      ]
    },
    {
      "cell_type": "code",
      "source": [
        "#defining function for tax rate\n",
        "\n",
        "def tax(Taxable_Income):\n",
        "  if Taxable_Income > 6992:\n",
        "    return(18)\n",
        "  else:\n",
        "    return(12)"
      ],
      "metadata": {
        "id": "3ISXEBITJkZr"
      },
      "execution_count": 41,
      "outputs": []
    },
    {
      "cell_type": "code",
      "source": [
        "tax_rate = F.udf(tax, IntegerType())"
      ],
      "metadata": {
        "id": "DzatoG4kK5EG"
      },
      "execution_count": 42,
      "outputs": []
    },
    {
      "cell_type": "code",
      "source": [
        "all_data_updated = all_data_updated.withColumn('Tax_rate', tax_rate('Taxable_Income'))"
      ],
      "metadata": {
        "id": "LRkMYQncLMMl"
      },
      "execution_count": 43,
      "outputs": []
    },
    {
      "cell_type": "code",
      "source": [
        "all_data_updated.show(100)"
      ],
      "metadata": {
        "colab": {
          "base_uri": "https://localhost:8080/"
        },
        "id": "aINIwh40LbHh",
        "outputId": "29d3c0ce-36fd-49e8-cc63-4f28eb57cacd"
      },
      "execution_count": 44,
      "outputs": [
        {
          "output_type": "stream",
          "name": "stdout",
          "text": [
            "+--------------+----------------+-------+-----------+-------------+-------+--------------+--------+\n",
            "|Transaction_id|Transaction_type| Amount|Customer_id|         Name|Country|Taxable_Income|Tax_rate|\n",
            "+--------------+----------------+-------+-----------+-------------+-------+--------------+--------+\n",
            "|      100058.0|          Cheque|11996.0|      12454|Doyel Pradhan|  China|        6996.0|      18|\n",
            "|      100061.0|          Cheque|11990.0|      12454|Doyel Pradhan|  China|        6990.0|      12|\n",
            "|      100064.0|          Cheque|11984.0|      12454|Doyel Pradhan|  China|        6984.0|      12|\n",
            "|      100067.0|          Cheque|11978.0|      12454|Doyel Pradhan|  China|        6978.0|      12|\n",
            "|      100019.0|     Credit Card|11996.0|      12454|Doyel Pradhan|  China|        6996.0|      18|\n",
            "|      100013.0|     Credit Card|11990.0|      12454|Doyel Pradhan|  China|        6990.0|      12|\n",
            "|      100007.0|     Credit Card|11984.0|      12454|Doyel Pradhan|  China|        6984.0|      12|\n",
            "|      100001.0|     Credit Card|11978.0|      12454|Doyel Pradhan|  China|        6978.0|      12|\n",
            "|      100068.0|          Cheque|11976.0|      14587|  Sam Thankur| Taiwan|        6976.0|      12|\n",
            "|       99999.0|     Credit Card|11976.0|      14587|  Sam Thankur| Taiwan|        6976.0|      12|\n",
            "|      100057.0|          Cheque|11998.0|      15867|  Rajiv Singh|    USA|        6998.0|      18|\n",
            "|      100060.0|          Cheque|11992.0|      15867|  Rajiv Singh|    USA|        6992.0|      12|\n",
            "|      100063.0|          Cheque|11986.0|      15867|  Rajiv Singh|    USA|        6986.0|      12|\n",
            "|      100066.0|          Cheque|11980.0|      15867|  Rajiv Singh|    USA|        6980.0|      12|\n",
            "|      100021.0|     Credit Card|11998.0|      15867|  Rajiv Singh|    USA|        6998.0|      18|\n",
            "|      100015.0|     Credit Card|11992.0|      15867|  Rajiv Singh|    USA|        6992.0|      12|\n",
            "|      100009.0|     Credit Card|11986.0|      15867|  Rajiv Singh|    USA|        6986.0|      12|\n",
            "|      100003.0|     Credit Card|11980.0|      15867|  Rajiv Singh|    USA|        6980.0|      12|\n",
            "|      100056.0|          Cheque|12000.0|      15897|  Robin Singh|  India|        7000.0|      18|\n",
            "|      100059.0|          Cheque|11994.0|      15897|  Robin Singh|  India|        6994.0|      18|\n",
            "|      100062.0|          Cheque|11988.0|      15897|  Robin Singh|  India|        6988.0|      12|\n",
            "|      100065.0|          Cheque|11982.0|      15897|  Robin Singh|  India|        6982.0|      12|\n",
            "|      100023.0|     Credit Card|12000.0|      15897|  Robin Singh|  India|        7000.0|      18|\n",
            "|      100017.0|     Credit Card|11994.0|      15897|  Robin Singh|  India|        6994.0|      18|\n",
            "|      100011.0|     Credit Card|11988.0|      15897|  Robin Singh|  India|        6988.0|      12|\n",
            "|      100005.0|     Credit Card|11982.0|      15897|  Robin Singh|  India|        6982.0|      12|\n",
            "|      100069.0|          Cheque|11974.0|      31262|    John Sena| Russia|        6974.0|      12|\n",
            "|       99997.0|     Credit Card|11974.0|      31262|    John Sena| Russia|        6974.0|      12|\n",
            "+--------------+----------------+-------+-----------+-------------+-------+--------------+--------+\n",
            "\n"
          ]
        }
      ]
    },
    {
      "cell_type": "code",
      "source": [
        "from pyspark.sql.functions import when\n",
        "\n",
        "all_data_updated = all_data_updated.withColumn('updated_country', when(all_data_updated['Country'] == 'China', 'America').otherwise(all_data_updated['Country'])).drop(all_data_updated['Country'])"
      ],
      "metadata": {
        "id": "KzffsMArLoQg"
      },
      "execution_count": 45,
      "outputs": []
    },
    {
      "cell_type": "code",
      "source": [
        "all_data_updated = all_data_updated.withColumn('First_name', split(all_data_updated['Name'], \" \").getItem(1))"
      ],
      "metadata": {
        "id": "x_ALK530UIu7"
      },
      "execution_count": 46,
      "outputs": []
    },
    {
      "cell_type": "code",
      "source": [
        "all_data_updated.show()"
      ],
      "metadata": {
        "colab": {
          "base_uri": "https://localhost:8080/"
        },
        "id": "_ksSmov0r_B7",
        "outputId": "3775115c-34da-4b55-d20b-783e0d0501f1"
      },
      "execution_count": 47,
      "outputs": [
        {
          "output_type": "stream",
          "name": "stdout",
          "text": [
            "+--------------+----------------+-------+-----------+-------------+--------------+--------+---------------+----------+\n",
            "|Transaction_id|Transaction_type| Amount|Customer_id|         Name|Taxable_Income|Tax_rate|updated_country|First_name|\n",
            "+--------------+----------------+-------+-----------+-------------+--------------+--------+---------------+----------+\n",
            "|      100058.0|          Cheque|11996.0|      12454|Doyel Pradhan|        6996.0|      18|        America|   Pradhan|\n",
            "|      100061.0|          Cheque|11990.0|      12454|Doyel Pradhan|        6990.0|      12|        America|   Pradhan|\n",
            "|      100064.0|          Cheque|11984.0|      12454|Doyel Pradhan|        6984.0|      12|        America|   Pradhan|\n",
            "|      100067.0|          Cheque|11978.0|      12454|Doyel Pradhan|        6978.0|      12|        America|   Pradhan|\n",
            "|      100019.0|     Credit Card|11996.0|      12454|Doyel Pradhan|        6996.0|      18|        America|   Pradhan|\n",
            "|      100013.0|     Credit Card|11990.0|      12454|Doyel Pradhan|        6990.0|      12|        America|   Pradhan|\n",
            "|      100007.0|     Credit Card|11984.0|      12454|Doyel Pradhan|        6984.0|      12|        America|   Pradhan|\n",
            "|      100001.0|     Credit Card|11978.0|      12454|Doyel Pradhan|        6978.0|      12|        America|   Pradhan|\n",
            "|      100068.0|          Cheque|11976.0|      14587|  Sam Thankur|        6976.0|      12|         Taiwan|   Thankur|\n",
            "|       99999.0|     Credit Card|11976.0|      14587|  Sam Thankur|        6976.0|      12|         Taiwan|   Thankur|\n",
            "|      100057.0|          Cheque|11998.0|      15867|  Rajiv Singh|        6998.0|      18|            USA|     Singh|\n",
            "|      100060.0|          Cheque|11992.0|      15867|  Rajiv Singh|        6992.0|      12|            USA|     Singh|\n",
            "|      100063.0|          Cheque|11986.0|      15867|  Rajiv Singh|        6986.0|      12|            USA|     Singh|\n",
            "|      100066.0|          Cheque|11980.0|      15867|  Rajiv Singh|        6980.0|      12|            USA|     Singh|\n",
            "|      100021.0|     Credit Card|11998.0|      15867|  Rajiv Singh|        6998.0|      18|            USA|     Singh|\n",
            "|      100015.0|     Credit Card|11992.0|      15867|  Rajiv Singh|        6992.0|      12|            USA|     Singh|\n",
            "|      100009.0|     Credit Card|11986.0|      15867|  Rajiv Singh|        6986.0|      12|            USA|     Singh|\n",
            "|      100003.0|     Credit Card|11980.0|      15867|  Rajiv Singh|        6980.0|      12|            USA|     Singh|\n",
            "|      100056.0|          Cheque|12000.0|      15897|  Robin Singh|        7000.0|      18|          India|     Singh|\n",
            "|      100059.0|          Cheque|11994.0|      15897|  Robin Singh|        6994.0|      18|          India|     Singh|\n",
            "+--------------+----------------+-------+-----------+-------------+--------------+--------+---------------+----------+\n",
            "only showing top 20 rows\n",
            "\n"
          ]
        }
      ]
    },
    {
      "cell_type": "code",
      "source": [
        "all_data_updated.write.option(\"header\" , True).partitionBy('updated_country').mode('overwrite').parquet('/content/Partition_Only/parquet.parquet')"
      ],
      "metadata": {
        "id": "qwLjDBzOsAhW"
      },
      "execution_count": 48,
      "outputs": []
    },
    {
      "cell_type": "code",
      "source": [
        "all_data_updated.write.bucketBy(7,('transaction_id')).format('parquet').option(\"path\", \"/content/Bucketting/parquet.parquet\").saveAsTable('updated_data')"
      ],
      "metadata": {
        "id": "2xfEJZICtAHg"
      },
      "execution_count": 49,
      "outputs": []
    },
    {
      "cell_type": "code",
      "source": [
        "et = time.time()\n",
        "elapsed_time = et - st\n",
        "print('Execution time:', elapsed_time, 'seconds')"
      ],
      "metadata": {
        "id": "8JGqrjCKvuQp",
        "colab": {
          "base_uri": "https://localhost:8080/"
        },
        "outputId": "3b1445d6-3e65-4dd9-d219-e1a058fb0e6c"
      },
      "execution_count": 51,
      "outputs": [
        {
          "output_type": "stream",
          "name": "stdout",
          "text": [
            "Execution time: 111.39685773849487 seconds\n"
          ]
        }
      ]
    }
  ]
}